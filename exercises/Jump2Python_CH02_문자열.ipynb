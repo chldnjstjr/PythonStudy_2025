{
 "cells": [
  {
   "cell_type": "code",
   "execution_count": null,
   "id": "a0c2593d",
   "metadata": {},
   "outputs": [],
   "source": [
    "# 모든 코드 줄의 결과를 자동 출력\n",
    "from IPython.core.interactiveshell import InteractiveShell\n",
    "InteractiveShell.ast_node_interactivity = \"all\""
   ]
  },
  {
   "cell_type": "markdown",
   "id": "82b71290",
   "metadata": {},
   "source": [
    "# 기초"
   ]
  },
  {
   "cell_type": "markdown",
   "id": "dd4b0a33",
   "metadata": {},
   "source": [
    "## 문자열"
   ]
  },
  {
   "cell_type": "markdown",
   "id": "4f692914",
   "metadata": {},
   "source": [
    "### 문자열 내 작은 따옴표 포함하기\n",
    "\n",
    "큰따옴표 안에 작은 따옴표는 문자 자체로 인식됨.\n",
    "\n",
    "작은따옴표 내 작은 따옴표는 에러 생김!"
   ]
  },
  {
   "cell_type": "code",
   "execution_count": 4,
   "id": "96e40f4a",
   "metadata": {},
   "outputs": [
    {
     "data": {
      "text/plain": [
       "\"Python's favorite food is 'snake'\""
      ]
     },
     "execution_count": 4,
     "metadata": {},
     "output_type": "execute_result"
    }
   ],
   "source": [
    "food = \"Python's favorite food is 'snake'\"\n",
    "\n",
    "food"
   ]
  },
  {
   "cell_type": "markdown",
   "id": "d584217e",
   "metadata": {},
   "source": [
    "### 문자열 내 큰따옴표 포함하기\n",
    "\n",
    "반대로 큰따옴표를 문자 자체로 인식시키기 위해선 작은 따옴표 내에 큰따옴표를 사용해야함."
   ]
  },
  {
   "cell_type": "code",
   "execution_count": null,
   "id": "8d9553ec",
   "metadata": {},
   "outputs": [],
   "source": [
    "say = 'Python is \"easy\" to learn'\n",
    "say"
   ]
  },
  {
   "cell_type": "markdown",
   "id": "00371f67",
   "metadata": {},
   "source": [
    "### 역슬래시를 사용해서 작은따옴표와 큰따옴표를 문자열에 포함하기 \n",
    "\n",
    "역슬래시를 작은따옴표나 큰따옴표 앞에 삽입하면 역슬래시 뒤의 작은따옴표나 큰따옴표는 문자열을 둘러싸는 기호의미가 아니라 따옴표 자체로 인식됨"
   ]
  },
  {
   "cell_type": "code",
   "execution_count": null,
   "id": "10d15ed9",
   "metadata": {},
   "outputs": [],
   "source": [
    "foody = 'Python\\'s fovorite food is perl'\n",
    "\n",
    "foody\n",
    "\n",
    "sady = \"Python is \\\"easy\\\" to learn\"\n",
    "sady"
   ]
  },
  {
   "cell_type": "markdown",
   "id": "023a25c9",
   "metadata": {},
   "source": [
    "### 여러 줄인 문자열을 변수에 대입할 때 "
   ]
  },
  {
   "cell_type": "code",
   "execution_count": null,
   "id": "3b7746c8",
   "metadata": {},
   "outputs": [],
   "source": [
    "multiline = \"Life is too short\\nYou need python\"\n",
    "print(multiline)"
   ]
  },
  {
   "cell_type": "code",
   "execution_count": null,
   "id": "a1b9974b",
   "metadata": {},
   "outputs": [],
   "source": [
    "multiline='''\n",
    "    Life is too short\n",
    "    You need python\n",
    "'''\n",
    "print(multiline)"
   ]
  },
  {
   "cell_type": "code",
   "execution_count": null,
   "id": "b3e12b4c",
   "metadata": {},
   "outputs": [],
   "source": [
    "tab = \"Life is too short\\tYou need python\"\n",
    "print(tab)\n",
    "\n",
    "backslash = \"Life is too short\\\\You need python\"\n",
    "print(backslash)\n",
    "\n",
    "carriage_return = \"Life is too short\\rYou need python\"\n",
    "print(carriage_return)\n",
    "\n",
    "form_feed = \"Life is too short\\fYou need python\"\n",
    "print(form_feed)"
   ]
  },
  {
   "cell_type": "code",
   "execution_count": null,
   "id": "63077733",
   "metadata": {},
   "outputs": [],
   "source": [
    "carriage_return = \"Life is too short\\rYou need python\"\n",
    "print(carriage_return)"
   ]
  },
  {
   "cell_type": "markdown",
   "id": "fd81c827",
   "metadata": {},
   "source": [
    "**캐리지 리턴(\\r)의 원리와 개념, 필요성**\n",
    "\n",
    "- 캐리지 리턴(\\r)은 원래 타자기나 프린터에서 줄의 맨 앞으로 커서를 이동시키는 제어 문자입니다.\n",
    "- 파이썬 문자열에서 `\\r`이 포함되면, 출력 시 해당 위치에서 커서가 줄의 맨 앞으로 이동합니다.\n",
    "- 예시 코드:\n",
    "  ```python\n",
    "  carriage_return = \"Life is too short\\rYou need python\"\n",
    "  print(carriage_return)\n",
    "  ```\n",
    "- **출력 결과:**\n",
    "  ```\n",
    "  You need pythonhort\n",
    "  ```\n",
    "  (\"Life is too short\"의 앞부분이 \"You need python\"으로 덮여써짐)\n",
    "\n",
    "- **원리:**\n",
    "  - `\\r`이 나오면 커서가 줄 맨 앞으로 이동하여, 이후 문자가 기존 문자열의 앞부분을 덮어씁니다.\n",
    "- **필요성:**\n",
    "  - 콘솔에서 진행 상태 표시(예: 로딩바, 카운터 등)처럼 한 줄을 반복적으로 갱신할 때 사용합니다.\n",
    "  - 예시: `print(\"진행률: 10%\", end=\"\\r\")` (다음 출력이 같은 줄 맨 앞에서 시작)\n",
    "\n",
    "**정리:**\n",
    "- `\\r`은 줄 바꿈이 아니라, 같은 줄의 맨 앞으로 커서를 이동시켜 이후 출력이 앞부분을 덮어쓰게 만듭니다."
   ]
  },
  {
   "cell_type": "code",
   "execution_count": null,
   "id": "dc1d2e70",
   "metadata": {},
   "outputs": [],
   "source": [
    "form_feed = \"Life is too short\\fYou need python\"\n",
    "print(form_feed)"
   ]
  },
  {
   "cell_type": "markdown",
   "id": "31dc0666",
   "metadata": {},
   "source": [
    "**폼피드(\\f)의 원리와 개념, 필요성 및 활용 예시**\n",
    "\n",
    "- **폼피드(\\f)**는 원래 프린터에서 다음 페이지로 넘기는 제어 문자입니다.\n",
    "- 파이썬 문자열에서 `\\f`가 포함되면, 출력 시 보통은 특수문자로 처리되어 화면에 공백이나 작은 사각형(□) 등으로 보일 수 있습니다.\n",
    "- 예시 코드:\n",
    "  ```python\n",
    "  form_feed = \"Life is too short\\fYou need python\"\n",
    "  print(form_feed)\n",
    "  ```\n",
    "- **출력 결과:**\n",
    "  ```\n",
    "  Life is too short\fYou need python\n",
    "  ```\n",
    "  (대부분의 콘솔에서는 줄 바꿈이나 페이지 이동 없이 \\f 자체가 보이거나 특수문자로 표시됨)\n",
    "\n",
    "- **원리:**\n",
    "  - `\\f`는 ASCII 제어 문자(폼피드, 0x0C)로, 프린터에서는 다음 페이지로 넘기는 역할을 했습니다.\n",
    "  - 현대의 터미널이나 콘솔에서는 별다른 동작 없이 특수문자로 취급됩니다.\n",
    "- **필요성 및 활용 예시:**\n",
    "  - 과거에는 프린터에서 페이지 구분 용도로 사용\n",
    "  - 일부 텍스트 파서, 문서 처리 시스템에서 페이지 분리자 역할\n",
    "  - 실무에서는 거의 사용되지 않지만, 텍스트 파일 내 논리적 구분이 필요할 때 활용 가능\n",
    "\n",
    "**정리:**\n",
    "- `\\f`는 주로 프린터나 특수한 텍스트 처리 환경에서 의미가 있으며, 일반 콘솔에서는 눈에 띄는 변화 없이 출력됩니다."
   ]
  },
  {
   "cell_type": "code",
   "execution_count": null,
   "id": "b373b99c",
   "metadata": {},
   "outputs": [],
   "source": [
    "a = \"Life is too short, You need python\"\n",
    "\n",
    "a[0]\n",
    "\n",
    "a[-2] # -0과 0은 같기 때문에 뒤에서부터 할  때는 -1부터 시작한다."
   ]
  },
  {
   "cell_type": "markdown",
   "id": "eb5175ec",
   "metadata": {},
   "source": [
    "### f 문자열 포매팅\n",
    "\n",
    "문자열 앞에 f 접두사를 붙여 f 문자열 포매팅 기능을 사용함.\n",
    "\n",
    "f 문자열 포매팅(f-string)이 필요한 이유 \n",
    "- 가독성: 변수나 표현식을 중괄호 {} 안에 직접 넣어, 어떤 값이 들어가는지 한눈에 알 수 있습니다.\n",
    "- 간결함: 기존의 % 포매팅이나 str.format()보다 코드가 짧고 명확합니다.\n",
    "- 유연성: 변수뿐 아니라, 수식, 함수 호출 등 다양한 표현식을 바로 사용할 수 있습니다.\n",
    "- 성능: f-string은 다른 포매팅 방식보다 빠르게 동작합니다."
   ]
  },
  {
   "cell_type": "code",
   "execution_count": null,
   "id": "a9fa20ed",
   "metadata": {},
   "outputs": [],
   "source": [
    "name = \"Ronaldo\"\n",
    "age = 40\n",
    "\n",
    "f'my name is {name} and I am {age} years old'"
   ]
  },
  {
   "cell_type": "code",
   "execution_count": null,
   "id": "2971e041",
   "metadata": {},
   "outputs": [],
   "source": [
    "f'Next year, I will be {age + 1} years old'"
   ]
  },
  {
   "cell_type": "markdown",
   "id": "0478d8dc",
   "metadata": {},
   "source": [
    "#### 딕셔너리에서의 f 포매팅 사용법"
   ]
  },
  {
   "cell_type": "code",
   "execution_count": null,
   "id": "f8db411c",
   "metadata": {},
   "outputs": [],
   "source": [
    "d = {'name': 'Ronaldo',\n",
    "     'age': 40}\n",
    "\n",
    "f'my name is {d[\"name\"]} and I am {d[\"age\"]} years old'\n",
    "f'Next year, I will be {d[\"age\"] + 1} years old'"
   ]
  },
  {
   "cell_type": "code",
   "execution_count": null,
   "id": "35243af1",
   "metadata": {},
   "outputs": [],
   "source": [
    "f'{\"hi\":<10}' #왼쪽 정렬\n",
    "len(f'{\"hi\":<10}')\n",
    "\n",
    "f'{\"hi\":>10}' #오른쪽 정렬\n",
    "f'{\"hi\":^10}' #가운데 정렬\n",
    "f'{\"hi\":=^10}' #가운데 정렬, 빈 공간은 =로 채움"
   ]
  },
  {
   "cell_type": "code",
   "execution_count": null,
   "id": "e2eca102",
   "metadata": {},
   "outputs": [],
   "source": [
    "y = 3.14159265358979323846\n",
    "f'{y:.2f}'  # 소수점 둘째 자리까지 출력\n",
    "f'{y:.5f}'  # 소수점 다섯째 자리까지 출력\n",
    "\n",
    "f'{y:10.4f}' # 소수점 넷째 자리까지 출력, 전체 너비 10칸 확보\n"
   ]
  },
  {
   "cell_type": "markdown",
   "id": "a20fddb9",
   "metadata": {},
   "source": [
    "#### f 문자열에서 금액에 콤마(,) 삽입하기"
   ]
  },
  {
   "cell_type": "code",
   "execution_count": null,
   "id": "702c3acc",
   "metadata": {},
   "outputs": [],
   "source": [
    "f\"난 {1500000:,}원이 필요해\""
   ]
  },
  {
   "cell_type": "markdown",
   "id": "959308bb",
   "metadata": {},
   "source": [
    "### 문자열 관련 함수들"
   ]
  },
  {
   "cell_type": "markdown",
   "id": "b2b30491",
   "metadata": {},
   "source": [
    "#### Count - 문자 개수 세기"
   ]
  },
  {
   "cell_type": "code",
   "execution_count": null,
   "id": "003f3482",
   "metadata": {},
   "outputs": [],
   "source": [
    "a = \"hobby\"\n",
    "a.count('b') #' b'가 몇 번 나오는지 세기\n"
   ]
  },
  {
   "cell_type": "markdown",
   "id": "214aa422",
   "metadata": {},
   "source": [
    "#### find - 위치 알려주기"
   ]
  },
  {
   "cell_type": "code",
   "execution_count": null,
   "id": "8d2b7f46",
   "metadata": {},
   "outputs": [],
   "source": [
    "a = \"Python is the best choice\"\n",
    "a.find('b')  # 'b'가 처음 나오는 위치를 반환\n",
    "a.find('good')  # 'good'이 없으면 -1 반환"
   ]
  },
  {
   "cell_type": "markdown",
   "id": "13436d92",
   "metadata": {},
   "source": [
    "#### index - 위치 알려주기2"
   ]
  },
  {
   "cell_type": "code",
   "execution_count": null,
   "id": "3cb1de87",
   "metadata": {},
   "outputs": [],
   "source": [
    "a = \"Life is too short, You need python\"\n",
    "a.index('t')\n",
    "\n",
    "# a.index('k') 문자열 내 k가 없으면 오류 발생"
   ]
  },
  {
   "cell_type": "markdown",
   "id": "25908847",
   "metadata": {},
   "source": [
    "#### join - 문자열 삽입"
   ]
  },
  {
   "cell_type": "code",
   "execution_count": null,
   "id": "f4020062",
   "metadata": {},
   "outputs": [],
   "source": [
    "\",\".join('abcd')  # 문자열을 연결하여 반환\n",
    "\",\".join(['a', 'b', 'c', 'd'])  # 리스트의 문자열을 연결하여 반환\n",
    "a = \"Life is too short\"\n",
    "a.split()  # 공백을 기준으로 문자열을 나누어 리스트로 반환\n",
    "a.split(' ')  # 공백을 기준으로 문자열을 나누어 리스트로 반환\n",
    "a.split('o')  # 'o'를 기준으로 문자열을 나누어 리스트로 반환\n",
    "a.split('x')  # 'x'가 없으므로 전체 문자열을 하나의 요소로 갖는 리스트 반환\n",
    "\n",
    "a.replace('Life', 'Your leg')  # 'Life'를 'Your leg'로 대체\n"
   ]
  },
  {
   "cell_type": "markdown",
   "id": "8da3d96b",
   "metadata": {},
   "source": [
    "#### upper - 소문자 to 대문자\n",
    "#### lower - 대문자 to 소문자"
   ]
  },
  {
   "cell_type": "code",
   "execution_count": null,
   "id": "16176586",
   "metadata": {},
   "outputs": [],
   "source": [
    "a = \"hi\"\n",
    "a.upper()  # 대문자로 변환\n",
    "\n",
    "b = \"HI\"\n",
    "b.lower()  # 소문자로 변환"
   ]
  },
  {
   "cell_type": "markdown",
   "id": "efa6a08c",
   "metadata": {},
   "source": [
    "#### 공백 지우기 \n",
    "\n",
    "- lstrip 왼쪽 공백 지우기 \n",
    "- rstrip 오른쪽 공백 지우기"
   ]
  },
  {
   "cell_type": "code",
   "execution_count": null,
   "id": "acb587a4",
   "metadata": {},
   "outputs": [],
   "source": [
    "a = \" hi \"\n",
    "a.lstrip()  # 왼쪽 공백 제거\n",
    "a.rstrip()  # 오른쪽 공백 제거\n",
    "a.strip()  # 양쪽 공백 제거"
   ]
  },
  {
   "cell_type": "markdown",
   "id": "a5d970af",
   "metadata": {},
   "source": [
    "#### replace - 문자열 바꾸기"
   ]
  },
  {
   "cell_type": "code",
   "execution_count": null,
   "id": "78d257e8",
   "metadata": {},
   "outputs": [],
   "source": [
    "a = \"Life is too short, You need python\"\n",
    "a.replace('Life', 'Your leg')  # 'Life'를 'Your leg'로 대체\n"
   ]
  },
  {
   "cell_type": "markdown",
   "id": "1f6a5f76",
   "metadata": {},
   "source": [
    "#### split - 문자열 나누기"
   ]
  },
  {
   "cell_type": "code",
   "execution_count": null,
   "id": "03bd82c4",
   "metadata": {},
   "outputs": [],
   "source": [
    "a = \"Life is too short, You need python\"\n",
    "a.split()  # 공백을 기준으로 문자열을 나누어 리스트로 반환\n"
   ]
  },
  {
   "cell_type": "markdown",
   "id": "d2a158fc",
   "metadata": {},
   "source": [
    "#### 문자열이 알파벳으로만 구성되어 있는지 확인하기"
   ]
  },
  {
   "cell_type": "code",
   "execution_count": null,
   "id": "87456e48",
   "metadata": {},
   "outputs": [],
   "source": [
    "s = \"Python\"\n",
    "s.isalpha()\n",
    "\n",
    "s = \"Python3\"\n",
    "s.isalnum()  # 영문자와 숫자로만 이루어져 있는지 확인\n",
    "\n",
    "s = \"12345\"\n",
    "s.isdigit()  # 숫자로만 이루어져 있는지 확인\n"
   ]
  },
  {
   "cell_type": "markdown",
   "id": "e7a7aae3",
   "metadata": {},
   "source": [
    "#### 특정 문자(열)로 시작하거나 끝나는지 확인\n",
    "\n",
    "- startswith\n",
    "- endswith  "
   ]
  },
  {
   "cell_type": "code",
   "execution_count": null,
   "id": "d122377d",
   "metadata": {},
   "outputs": [],
   "source": [
    "s = \"Life is too short, You need python\"\n",
    "s.startswith(\"Life\")  # 문자열이 \"Life\"로 시작하는지 확인\n",
    "s.endswith(\"python\")  # 문자열이 \"python\"으로 끝나는지 확인"
   ]
  }
 ],
 "metadata": {
  "kernelspec": {
   "display_name": "Python 3",
   "language": "python",
   "name": "python3"
  },
  "language_info": {
   "codemirror_mode": {
    "name": "ipython",
    "version": 3
   },
   "file_extension": ".py",
   "mimetype": "text/x-python",
   "name": "python",
   "nbconvert_exporter": "python",
   "pygments_lexer": "ipython3",
   "version": "3.13.0"
  }
 },
 "nbformat": 4,
 "nbformat_minor": 5
}
